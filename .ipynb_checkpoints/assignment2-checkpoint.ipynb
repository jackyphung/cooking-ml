{
 "cells": [
  {
   "cell_type": "code",
   "execution_count": 1,
   "metadata": {
    "scrolled": true
   },
   "outputs": [
    {
     "name": "stderr",
     "output_type": "stream",
     "text": [
      "/anaconda3/lib/python3.6/site-packages/h5py/__init__.py:36: FutureWarning: Conversion of the second argument of issubdtype from `float` to `np.floating` is deprecated. In future, it will be treated as `np.float64 == np.dtype(float).type`.\n",
      "  from ._conv import register_converters as _register_converters\n",
      "Using TensorFlow backend.\n"
     ]
    }
   ],
   "source": [
    "import keras\n",
    "import pandas as pd\n",
    "import numpy as np"
   ]
  },
  {
   "cell_type": "markdown",
   "metadata": {},
   "source": [
    "Reading data"
   ]
  },
  {
   "cell_type": "code",
   "execution_count": 2,
   "metadata": {},
   "outputs": [],
   "source": [
    "train_df = pd.read_json('train.json')\n",
    "test_df = pd.read_json('test.json')"
   ]
  },
  {
   "cell_type": "code",
   "execution_count": 3,
   "metadata": {},
   "outputs": [
    {
     "data": {
      "text/html": [
       "<div>\n",
       "<style scoped>\n",
       "    .dataframe tbody tr th:only-of-type {\n",
       "        vertical-align: middle;\n",
       "    }\n",
       "\n",
       "    .dataframe tbody tr th {\n",
       "        vertical-align: top;\n",
       "    }\n",
       "\n",
       "    .dataframe thead th {\n",
       "        text-align: right;\n",
       "    }\n",
       "</style>\n",
       "<table border=\"1\" class=\"dataframe\">\n",
       "  <thead>\n",
       "    <tr style=\"text-align: right;\">\n",
       "      <th></th>\n",
       "      <th>cuisine</th>\n",
       "      <th>id</th>\n",
       "      <th>ingredients</th>\n",
       "    </tr>\n",
       "  </thead>\n",
       "  <tbody>\n",
       "    <tr>\n",
       "      <th>0</th>\n",
       "      <td>italian</td>\n",
       "      <td>0</td>\n",
       "      <td>[penne, shallots, rice vinegar, fresh basil, g...</td>\n",
       "    </tr>\n",
       "    <tr>\n",
       "      <th>1</th>\n",
       "      <td>greek</td>\n",
       "      <td>1</td>\n",
       "      <td>[sugar, chopped walnuts, filo dough, chopped a...</td>\n",
       "    </tr>\n",
       "    <tr>\n",
       "      <th>2</th>\n",
       "      <td>italian</td>\n",
       "      <td>2</td>\n",
       "      <td>[fresh rosemary, chopped fresh thyme, fresh or...</td>\n",
       "    </tr>\n",
       "    <tr>\n",
       "      <th>3</th>\n",
       "      <td>southern_us</td>\n",
       "      <td>3</td>\n",
       "      <td>[sugar, hot sauce, ramps, vinegar, cream chees...</td>\n",
       "    </tr>\n",
       "    <tr>\n",
       "      <th>4</th>\n",
       "      <td>french</td>\n",
       "      <td>4</td>\n",
       "      <td>[ground cinnamon, panettone, whipped cream, Am...</td>\n",
       "    </tr>\n",
       "  </tbody>\n",
       "</table>\n",
       "</div>"
      ],
      "text/plain": [
       "       cuisine  id                                        ingredients\n",
       "0      italian   0  [penne, shallots, rice vinegar, fresh basil, g...\n",
       "1        greek   1  [sugar, chopped walnuts, filo dough, chopped a...\n",
       "2      italian   2  [fresh rosemary, chopped fresh thyme, fresh or...\n",
       "3  southern_us   3  [sugar, hot sauce, ramps, vinegar, cream chees...\n",
       "4       french   4  [ground cinnamon, panettone, whipped cream, Am..."
      ]
     },
     "execution_count": 3,
     "metadata": {},
     "output_type": "execute_result"
    }
   ],
   "source": [
    "train_df.head()"
   ]
  },
  {
   "cell_type": "code",
   "execution_count": 4,
   "metadata": {},
   "outputs": [
    {
     "data": {
      "text/plain": [
       "italian         5867\n",
       "mexican         4819\n",
       "southern_us     3234\n",
       "indian          2248\n",
       "chinese         2001\n",
       "french          1981\n",
       "cajun_creole    1157\n",
       "thai            1152\n",
       "japanese        1065\n",
       "greek            880\n",
       "spanish          740\n",
       "korean           621\n",
       "vietnamese       618\n",
       "moroccan         615\n",
       "british          602\n",
       "filipino         565\n",
       "irish            499\n",
       "jamaican         394\n",
       "russian          366\n",
       "brazilian        350\n",
       "Name: cuisine, dtype: int64"
      ]
     },
     "execution_count": 4,
     "metadata": {},
     "output_type": "execute_result"
    }
   ],
   "source": [
    "train_df.cuisine.value_counts()"
   ]
  },
  {
   "cell_type": "markdown",
   "metadata": {},
   "source": [
    "Process training data"
   ]
  },
  {
   "cell_type": "code",
   "execution_count": 5,
   "metadata": {},
   "outputs": [],
   "source": [
    "train_df['ingredients_string'] = train_df.ingredients.map(lambda x: ' '.join(x))"
   ]
  },
  {
   "cell_type": "code",
   "execution_count": 6,
   "metadata": {
    "scrolled": false
   },
   "outputs": [
    {
     "data": {
      "text/html": [
       "<div>\n",
       "<style scoped>\n",
       "    .dataframe tbody tr th:only-of-type {\n",
       "        vertical-align: middle;\n",
       "    }\n",
       "\n",
       "    .dataframe tbody tr th {\n",
       "        vertical-align: top;\n",
       "    }\n",
       "\n",
       "    .dataframe thead th {\n",
       "        text-align: right;\n",
       "    }\n",
       "</style>\n",
       "<table border=\"1\" class=\"dataframe\">\n",
       "  <thead>\n",
       "    <tr style=\"text-align: right;\">\n",
       "      <th></th>\n",
       "      <th>cuisine</th>\n",
       "      <th>id</th>\n",
       "      <th>ingredients</th>\n",
       "      <th>ingredients_string</th>\n",
       "    </tr>\n",
       "  </thead>\n",
       "  <tbody>\n",
       "    <tr>\n",
       "      <th>0</th>\n",
       "      <td>italian</td>\n",
       "      <td>0</td>\n",
       "      <td>[penne, shallots, rice vinegar, fresh basil, g...</td>\n",
       "      <td>penne shallots rice vinegar fresh basil ground...</td>\n",
       "    </tr>\n",
       "    <tr>\n",
       "      <th>1</th>\n",
       "      <td>greek</td>\n",
       "      <td>1</td>\n",
       "      <td>[sugar, chopped walnuts, filo dough, chopped a...</td>\n",
       "      <td>sugar chopped walnuts filo dough chopped almon...</td>\n",
       "    </tr>\n",
       "    <tr>\n",
       "      <th>2</th>\n",
       "      <td>italian</td>\n",
       "      <td>2</td>\n",
       "      <td>[fresh rosemary, chopped fresh thyme, fresh or...</td>\n",
       "      <td>fresh rosemary chopped fresh thyme fresh orega...</td>\n",
       "    </tr>\n",
       "    <tr>\n",
       "      <th>3</th>\n",
       "      <td>southern_us</td>\n",
       "      <td>3</td>\n",
       "      <td>[sugar, hot sauce, ramps, vinegar, cream chees...</td>\n",
       "      <td>sugar hot sauce ramps vinegar cream cheese gro...</td>\n",
       "    </tr>\n",
       "    <tr>\n",
       "      <th>4</th>\n",
       "      <td>french</td>\n",
       "      <td>4</td>\n",
       "      <td>[ground cinnamon, panettone, whipped cream, Am...</td>\n",
       "      <td>ground cinnamon panettone whipped cream Amaren...</td>\n",
       "    </tr>\n",
       "  </tbody>\n",
       "</table>\n",
       "</div>"
      ],
      "text/plain": [
       "       cuisine  id                                        ingredients  \\\n",
       "0      italian   0  [penne, shallots, rice vinegar, fresh basil, g...   \n",
       "1        greek   1  [sugar, chopped walnuts, filo dough, chopped a...   \n",
       "2      italian   2  [fresh rosemary, chopped fresh thyme, fresh or...   \n",
       "3  southern_us   3  [sugar, hot sauce, ramps, vinegar, cream chees...   \n",
       "4       french   4  [ground cinnamon, panettone, whipped cream, Am...   \n",
       "\n",
       "                                  ingredients_string  \n",
       "0  penne shallots rice vinegar fresh basil ground...  \n",
       "1  sugar chopped walnuts filo dough chopped almon...  \n",
       "2  fresh rosemary chopped fresh thyme fresh orega...  \n",
       "3  sugar hot sauce ramps vinegar cream cheese gro...  \n",
       "4  ground cinnamon panettone whipped cream Amaren...  "
      ]
     },
     "execution_count": 6,
     "metadata": {},
     "output_type": "execute_result"
    }
   ],
   "source": [
    "train_df.head()"
   ]
  },
  {
   "cell_type": "code",
   "execution_count": 7,
   "metadata": {},
   "outputs": [],
   "source": [
    "from sklearn.feature_extraction.text import TfidfVectorizer\n",
    "tv = TfidfVectorizer()\n",
    "\n",
    "train_data = tv.fit_transform(train_df.ingredients_string)"
   ]
  },
  {
   "cell_type": "code",
   "execution_count": 8,
   "metadata": {},
   "outputs": [],
   "source": [
    "from sklearn.preprocessing import LabelEncoder\n",
    "lb = LabelEncoder()\n",
    "\n",
    "encoded_label = lb.fit_transform(train_df.cuisine)"
   ]
  },
  {
   "cell_type": "markdown",
   "metadata": {},
   "source": [
    "Process test data"
   ]
  },
  {
   "cell_type": "code",
   "execution_count": 9,
   "metadata": {},
   "outputs": [
    {
     "data": {
      "text/html": [
       "<div>\n",
       "<style scoped>\n",
       "    .dataframe tbody tr th:only-of-type {\n",
       "        vertical-align: middle;\n",
       "    }\n",
       "\n",
       "    .dataframe tbody tr th {\n",
       "        vertical-align: top;\n",
       "    }\n",
       "\n",
       "    .dataframe thead th {\n",
       "        text-align: right;\n",
       "    }\n",
       "</style>\n",
       "<table border=\"1\" class=\"dataframe\">\n",
       "  <thead>\n",
       "    <tr style=\"text-align: right;\">\n",
       "      <th></th>\n",
       "      <th>id</th>\n",
       "      <th>ingredients</th>\n",
       "    </tr>\n",
       "  </thead>\n",
       "  <tbody>\n",
       "    <tr>\n",
       "      <th>0</th>\n",
       "      <td>29774</td>\n",
       "      <td>[eggs, beef stock, rice cakes]</td>\n",
       "    </tr>\n",
       "    <tr>\n",
       "      <th>1</th>\n",
       "      <td>29775</td>\n",
       "      <td>[pasta, orange, fresh thyme, peas, celery, tom...</td>\n",
       "    </tr>\n",
       "    <tr>\n",
       "      <th>2</th>\n",
       "      <td>29776</td>\n",
       "      <td>[olive oil, onions, red wine, top sirloin stea...</td>\n",
       "    </tr>\n",
       "    <tr>\n",
       "      <th>3</th>\n",
       "      <td>29777</td>\n",
       "      <td>[ground black pepper, patis, chicken stock, ga...</td>\n",
       "    </tr>\n",
       "    <tr>\n",
       "      <th>4</th>\n",
       "      <td>29778</td>\n",
       "      <td>[black pepper, garlic cloves, tomato paste, sa...</td>\n",
       "    </tr>\n",
       "  </tbody>\n",
       "</table>\n",
       "</div>"
      ],
      "text/plain": [
       "      id                                        ingredients\n",
       "0  29774                     [eggs, beef stock, rice cakes]\n",
       "1  29775  [pasta, orange, fresh thyme, peas, celery, tom...\n",
       "2  29776  [olive oil, onions, red wine, top sirloin stea...\n",
       "3  29777  [ground black pepper, patis, chicken stock, ga...\n",
       "4  29778  [black pepper, garlic cloves, tomato paste, sa..."
      ]
     },
     "execution_count": 9,
     "metadata": {},
     "output_type": "execute_result"
    }
   ],
   "source": [
    "test_df.head()"
   ]
  },
  {
   "cell_type": "code",
   "execution_count": 10,
   "metadata": {},
   "outputs": [
    {
     "data": {
      "text/html": [
       "<div>\n",
       "<style scoped>\n",
       "    .dataframe tbody tr th:only-of-type {\n",
       "        vertical-align: middle;\n",
       "    }\n",
       "\n",
       "    .dataframe tbody tr th {\n",
       "        vertical-align: top;\n",
       "    }\n",
       "\n",
       "    .dataframe thead th {\n",
       "        text-align: right;\n",
       "    }\n",
       "</style>\n",
       "<table border=\"1\" class=\"dataframe\">\n",
       "  <thead>\n",
       "    <tr style=\"text-align: right;\">\n",
       "      <th></th>\n",
       "      <th>id</th>\n",
       "      <th>ingredients</th>\n",
       "      <th>ingredients_string</th>\n",
       "    </tr>\n",
       "  </thead>\n",
       "  <tbody>\n",
       "    <tr>\n",
       "      <th>0</th>\n",
       "      <td>29774</td>\n",
       "      <td>[eggs, beef stock, rice cakes]</td>\n",
       "      <td>eggs beef stock rice cakes</td>\n",
       "    </tr>\n",
       "    <tr>\n",
       "      <th>1</th>\n",
       "      <td>29775</td>\n",
       "      <td>[pasta, orange, fresh thyme, peas, celery, tom...</td>\n",
       "      <td>pasta orange fresh thyme peas celery tomato pa...</td>\n",
       "    </tr>\n",
       "    <tr>\n",
       "      <th>2</th>\n",
       "      <td>29776</td>\n",
       "      <td>[olive oil, onions, red wine, top sirloin stea...</td>\n",
       "      <td>olive oil onions red wine top sirloin steak ch...</td>\n",
       "    </tr>\n",
       "    <tr>\n",
       "      <th>3</th>\n",
       "      <td>29777</td>\n",
       "      <td>[ground black pepper, patis, chicken stock, ga...</td>\n",
       "      <td>ground black pepper patis chicken stock garlic...</td>\n",
       "    </tr>\n",
       "    <tr>\n",
       "      <th>4</th>\n",
       "      <td>29778</td>\n",
       "      <td>[black pepper, garlic cloves, tomato paste, sa...</td>\n",
       "      <td>black pepper garlic cloves tomato paste salt o...</td>\n",
       "    </tr>\n",
       "  </tbody>\n",
       "</table>\n",
       "</div>"
      ],
      "text/plain": [
       "      id                                        ingredients  \\\n",
       "0  29774                     [eggs, beef stock, rice cakes]   \n",
       "1  29775  [pasta, orange, fresh thyme, peas, celery, tom...   \n",
       "2  29776  [olive oil, onions, red wine, top sirloin stea...   \n",
       "3  29777  [ground black pepper, patis, chicken stock, ga...   \n",
       "4  29778  [black pepper, garlic cloves, tomato paste, sa...   \n",
       "\n",
       "                                  ingredients_string  \n",
       "0                         eggs beef stock rice cakes  \n",
       "1  pasta orange fresh thyme peas celery tomato pa...  \n",
       "2  olive oil onions red wine top sirloin steak ch...  \n",
       "3  ground black pepper patis chicken stock garlic...  \n",
       "4  black pepper garlic cloves tomato paste salt o...  "
      ]
     },
     "execution_count": 10,
     "metadata": {},
     "output_type": "execute_result"
    }
   ],
   "source": [
    "test_df['ingredients_string'] = test_df.ingredients.map(lambda x: ' '.join(x))\n",
    "test_df.head()"
   ]
  },
  {
   "cell_type": "code",
   "execution_count": 11,
   "metadata": {},
   "outputs": [],
   "source": [
    "test_data = tv.transform(test_df.ingredients_string)"
   ]
  },
  {
   "cell_type": "code",
   "execution_count": 12,
   "metadata": {},
   "outputs": [
    {
     "data": {
      "text/plain": [
       "(10000, 2868)"
      ]
     },
     "execution_count": 12,
     "metadata": {},
     "output_type": "execute_result"
    }
   ],
   "source": [
    "test_data.shape"
   ]
  },
  {
   "cell_type": "code",
   "execution_count": 13,
   "metadata": {},
   "outputs": [
    {
     "data": {
      "text/plain": [
       "(29774, 2868)"
      ]
     },
     "execution_count": 13,
     "metadata": {},
     "output_type": "execute_result"
    }
   ],
   "source": [
    "train_data.shape"
   ]
  },
  {
   "cell_type": "code",
   "execution_count": 14,
   "metadata": {},
   "outputs": [
    {
     "data": {
      "text/plain": [
       "(29774,)"
      ]
     },
     "execution_count": 14,
     "metadata": {},
     "output_type": "execute_result"
    }
   ],
   "source": [
    "encoded_label.shape"
   ]
  },
  {
   "cell_type": "markdown",
   "metadata": {},
   "source": [
    "Process label"
   ]
  },
  {
   "cell_type": "code",
   "execution_count": 15,
   "metadata": {},
   "outputs": [],
   "source": [
    "from keras.utils.np_utils import to_categorical\n",
    "\n",
    "train_label = to_categorical(encoded_label)"
   ]
  },
  {
   "cell_type": "code",
   "execution_count": 16,
   "metadata": {},
   "outputs": [
    {
     "data": {
      "text/plain": [
       "(29774, 20)"
      ]
     },
     "execution_count": 16,
     "metadata": {},
     "output_type": "execute_result"
    }
   ],
   "source": [
    "train_label.shape"
   ]
  },
  {
   "cell_type": "markdown",
   "metadata": {},
   "source": [
    "Spliting data for training and validation"
   ]
  },
  {
   "cell_type": "code",
   "execution_count": 17,
   "metadata": {},
   "outputs": [],
   "source": [
    "from sklearn.model_selection import train_test_split\n",
    "\n",
    "x_train, x_test, y_train, y_test = train_test_split(train_data, train_label, test_size=0.20)"
   ]
  },
  {
   "cell_type": "code",
   "execution_count": 18,
   "metadata": {},
   "outputs": [
    {
     "data": {
      "text/plain": [
       "(23819, 2868)"
      ]
     },
     "execution_count": 18,
     "metadata": {},
     "output_type": "execute_result"
    }
   ],
   "source": [
    "x_train.shape"
   ]
  },
  {
   "cell_type": "code",
   "execution_count": 19,
   "metadata": {},
   "outputs": [
    {
     "data": {
      "text/plain": [
       "(5955, 2868)"
      ]
     },
     "execution_count": 19,
     "metadata": {},
     "output_type": "execute_result"
    }
   ],
   "source": [
    "x_test.shape"
   ]
  },
  {
   "cell_type": "code",
   "execution_count": 20,
   "metadata": {},
   "outputs": [
    {
     "data": {
      "text/plain": [
       "(23819, 20)"
      ]
     },
     "execution_count": 20,
     "metadata": {},
     "output_type": "execute_result"
    }
   ],
   "source": [
    "y_train.shape"
   ]
  },
  {
   "cell_type": "code",
   "execution_count": 21,
   "metadata": {},
   "outputs": [
    {
     "data": {
      "text/plain": [
       "(5955, 20)"
      ]
     },
     "execution_count": 21,
     "metadata": {},
     "output_type": "execute_result"
    }
   ],
   "source": [
    "y_test.shape"
   ]
  },
  {
   "cell_type": "markdown",
   "metadata": {},
   "source": [
    "Building and training model"
   ]
  },
  {
   "cell_type": "code",
   "execution_count": 22,
   "metadata": {
    "scrolled": false
   },
   "outputs": [
    {
     "name": "stdout",
     "output_type": "stream",
     "text": [
      "Train on 23819 samples, validate on 5955 samples\n",
      "Epoch 1/100\n",
      "23819/23819 [==============================] - 2s 81us/step - loss: 2.3571 - acc: 0.4517 - val_loss: 1.8557 - val_acc: 0.5343\n",
      "Epoch 2/100\n",
      "23819/23819 [==============================] - 1s 54us/step - loss: 1.6034 - acc: 0.5863 - val_loss: 1.3762 - val_acc: 0.6343\n",
      "Epoch 3/100\n",
      "23819/23819 [==============================] - 1s 54us/step - loss: 1.2493 - acc: 0.6596 - val_loss: 1.1234 - val_acc: 0.6887\n",
      "Epoch 4/100\n",
      "23819/23819 [==============================] - 1s 51us/step - loss: 1.0572 - acc: 0.7060 - val_loss: 0.9801 - val_acc: 0.7253\n",
      "Epoch 5/100\n",
      "23819/23819 [==============================] - 1s 51us/step - loss: 0.9396 - acc: 0.7342 - val_loss: 0.8956 - val_acc: 0.7471\n",
      "Epoch 6/100\n",
      "23819/23819 [==============================] - 1s 51us/step - loss: 0.8598 - acc: 0.7537 - val_loss: 0.8394 - val_acc: 0.7617\n",
      "Epoch 7/100\n",
      "23819/23819 [==============================] - 1s 51us/step - loss: 0.8036 - acc: 0.7684 - val_loss: 0.8008 - val_acc: 0.7706\n",
      "Epoch 8/100\n",
      "23819/23819 [==============================] - 1s 51us/step - loss: 0.7538 - acc: 0.7812 - val_loss: 0.7740 - val_acc: 0.7758\n",
      "Epoch 9/100\n",
      "23819/23819 [==============================] - 1s 50us/step - loss: 0.7226 - acc: 0.7913 - val_loss: 0.7548 - val_acc: 0.7780\n",
      "Epoch 10/100\n",
      "23819/23819 [==============================] - 1s 50us/step - loss: 0.6884 - acc: 0.7991 - val_loss: 0.7376 - val_acc: 0.7851\n",
      "Epoch 11/100\n",
      "23819/23819 [==============================] - 1s 51us/step - loss: 0.6670 - acc: 0.8031 - val_loss: 0.7275 - val_acc: 0.7846\n",
      "Epoch 12/100\n",
      "23819/23819 [==============================] - 1s 50us/step - loss: 0.6418 - acc: 0.8099 - val_loss: 0.7194 - val_acc: 0.7857\n",
      "Epoch 13/100\n",
      "23819/23819 [==============================] - 1s 50us/step - loss: 0.6220 - acc: 0.8155 - val_loss: 0.7142 - val_acc: 0.7876\n",
      "Epoch 14/100\n",
      "23819/23819 [==============================] - 1s 50us/step - loss: 0.6096 - acc: 0.8180 - val_loss: 0.7071 - val_acc: 0.7904\n",
      "Epoch 15/100\n",
      "23819/23819 [==============================] - 1s 50us/step - loss: 0.5952 - acc: 0.8214 - val_loss: 0.7043 - val_acc: 0.7904\n",
      "Epoch 16/100\n",
      "23819/23819 [==============================] - 1s 50us/step - loss: 0.5828 - acc: 0.8250 - val_loss: 0.7022 - val_acc: 0.7903\n",
      "Epoch 17/100\n",
      "23819/23819 [==============================] - ETA: 0s - loss: 0.5712 - acc: 0.827 - 1s 51us/step - loss: 0.5704 - acc: 0.8276 - val_loss: 0.6999 - val_acc: 0.7923\n",
      "Epoch 18/100\n",
      "23819/23819 [==============================] - 1s 50us/step - loss: 0.5571 - acc: 0.8314 - val_loss: 0.6985 - val_acc: 0.7924\n",
      "Epoch 19/100\n",
      "23819/23819 [==============================] - 1s 50us/step - loss: 0.5480 - acc: 0.8331 - val_loss: 0.6988 - val_acc: 0.7921\n",
      "Epoch 20/100\n",
      "23819/23819 [==============================] - 1s 50us/step - loss: 0.5363 - acc: 0.8381 - val_loss: 0.6979 - val_acc: 0.7918\n",
      "Epoch 21/100\n",
      "23819/23819 [==============================] - 1s 50us/step - loss: 0.5255 - acc: 0.8383 - val_loss: 0.6985 - val_acc: 0.7918\n",
      "Epoch 22/100\n",
      "23819/23819 [==============================] - 1s 50us/step - loss: 0.5165 - acc: 0.8440 - val_loss: 0.6977 - val_acc: 0.7919\n",
      "Epoch 23/100\n",
      "23819/23819 [==============================] - 1s 50us/step - loss: 0.5136 - acc: 0.8408 - val_loss: 0.6995 - val_acc: 0.7918\n",
      "Epoch 24/100\n",
      "23819/23819 [==============================] - 1s 50us/step - loss: 0.5000 - acc: 0.8471 - val_loss: 0.7014 - val_acc: 0.7938\n",
      "Epoch 25/100\n",
      "23819/23819 [==============================] - 1s 50us/step - loss: 0.4908 - acc: 0.8513 - val_loss: 0.7029 - val_acc: 0.7918\n",
      "Epoch 26/100\n",
      "23819/23819 [==============================] - 1s 50us/step - loss: 0.4835 - acc: 0.8509 - val_loss: 0.7022 - val_acc: 0.7923\n",
      "Epoch 27/100\n",
      "23819/23819 [==============================] - 1s 50us/step - loss: 0.4725 - acc: 0.8551 - val_loss: 0.7046 - val_acc: 0.7941\n",
      "Epoch 28/100\n",
      "23819/23819 [==============================] - 1s 50us/step - loss: 0.4711 - acc: 0.8555 - val_loss: 0.7045 - val_acc: 0.7924\n",
      "Epoch 29/100\n",
      "23819/23819 [==============================] - 1s 50us/step - loss: 0.4653 - acc: 0.8596 - val_loss: 0.7072 - val_acc: 0.7924\n",
      "Epoch 30/100\n",
      "23819/23819 [==============================] - 1s 50us/step - loss: 0.4567 - acc: 0.8602 - val_loss: 0.7083 - val_acc: 0.7921\n",
      "Epoch 31/100\n",
      "23819/23819 [==============================] - 1s 51us/step - loss: 0.4474 - acc: 0.8627 - val_loss: 0.7099 - val_acc: 0.7908\n",
      "Epoch 32/100\n",
      "23819/23819 [==============================] - 1s 50us/step - loss: 0.4468 - acc: 0.8640 - val_loss: 0.7120 - val_acc: 0.7914\n",
      "Epoch 33/100\n",
      "23819/23819 [==============================] - 1s 50us/step - loss: 0.4331 - acc: 0.8656 - val_loss: 0.7162 - val_acc: 0.7928\n",
      "Epoch 34/100\n",
      "23819/23819 [==============================] - 1s 50us/step - loss: 0.4318 - acc: 0.8669 - val_loss: 0.7186 - val_acc: 0.7919\n",
      "Epoch 35/100\n",
      "23819/23819 [==============================] - 1s 50us/step - loss: 0.4261 - acc: 0.8704 - val_loss: 0.7190 - val_acc: 0.7935\n",
      "Epoch 36/100\n",
      "23819/23819 [==============================] - 1s 50us/step - loss: 0.4214 - acc: 0.8698 - val_loss: 0.7246 - val_acc: 0.7906\n",
      "Epoch 37/100\n",
      "23819/23819 [==============================] - 1s 49us/step - loss: 0.4123 - acc: 0.8722 - val_loss: 0.7251 - val_acc: 0.7914\n",
      "Epoch 38/100\n",
      "23819/23819 [==============================] - 1s 50us/step - loss: 0.4073 - acc: 0.8764 - val_loss: 0.7280 - val_acc: 0.7921\n",
      "Epoch 39/100\n",
      "23819/23819 [==============================] - 1s 50us/step - loss: 0.4027 - acc: 0.8766 - val_loss: 0.7285 - val_acc: 0.7919\n",
      "Epoch 40/100\n",
      "23819/23819 [==============================] - 1s 48us/step - loss: 0.3968 - acc: 0.8776 - val_loss: 0.7314 - val_acc: 0.7909\n",
      "Epoch 41/100\n",
      "23819/23819 [==============================] - 1s 48us/step - loss: 0.3903 - acc: 0.8803 - val_loss: 0.7343 - val_acc: 0.7901\n",
      "Epoch 42/100\n",
      "23819/23819 [==============================] - 1s 49us/step - loss: 0.3861 - acc: 0.8812 - val_loss: 0.7367 - val_acc: 0.7909\n",
      "Epoch 43/100\n",
      "23819/23819 [==============================] - 1s 50us/step - loss: 0.3786 - acc: 0.8827 - val_loss: 0.7408 - val_acc: 0.7913\n",
      "Epoch 44/100\n",
      "23819/23819 [==============================] - 1s 50us/step - loss: 0.3771 - acc: 0.8821 - val_loss: 0.7409 - val_acc: 0.7903\n",
      "Epoch 45/100\n",
      "23819/23819 [==============================] - 1s 48us/step - loss: 0.3748 - acc: 0.8840 - val_loss: 0.7446 - val_acc: 0.7896\n",
      "Epoch 46/100\n",
      "23819/23819 [==============================] - 1s 48us/step - loss: 0.3667 - acc: 0.8874 - val_loss: 0.7497 - val_acc: 0.7894\n",
      "Epoch 47/100\n",
      "23819/23819 [==============================] - 1s 49us/step - loss: 0.3620 - acc: 0.8896 - val_loss: 0.7512 - val_acc: 0.7906\n",
      "Epoch 48/100\n",
      "23819/23819 [==============================] - 1s 49us/step - loss: 0.3600 - acc: 0.8888 - val_loss: 0.7520 - val_acc: 0.7889\n",
      "Epoch 49/100\n",
      "23819/23819 [==============================] - 1s 50us/step - loss: 0.3508 - acc: 0.8891 - val_loss: 0.7565 - val_acc: 0.7913\n",
      "Epoch 50/100\n",
      "23819/23819 [==============================] - 1s 50us/step - loss: 0.3508 - acc: 0.8916 - val_loss: 0.7596 - val_acc: 0.7887\n",
      "Epoch 51/100\n",
      "23819/23819 [==============================] - 1s 48us/step - loss: 0.3416 - acc: 0.8944 - val_loss: 0.7641 - val_acc: 0.7891\n",
      "Epoch 52/100\n",
      "23819/23819 [==============================] - 1s 49us/step - loss: 0.3397 - acc: 0.8940 - val_loss: 0.7667 - val_acc: 0.7896\n",
      "Epoch 53/100\n",
      "23819/23819 [==============================] - 1s 49us/step - loss: 0.3341 - acc: 0.8974 - val_loss: 0.7673 - val_acc: 0.7904\n",
      "Epoch 54/100\n",
      "23819/23819 [==============================] - 1s 50us/step - loss: 0.3308 - acc: 0.8984 - val_loss: 0.7721 - val_acc: 0.7889\n",
      "Epoch 55/100\n",
      "23819/23819 [==============================] - 1s 50us/step - loss: 0.3267 - acc: 0.8974 - val_loss: 0.7745 - val_acc: 0.7887\n",
      "Epoch 56/100\n",
      "23819/23819 [==============================] - 1s 50us/step - loss: 0.3239 - acc: 0.8976 - val_loss: 0.7781 - val_acc: 0.7881\n",
      "Epoch 57/100\n",
      "23819/23819 [==============================] - 1s 49us/step - loss: 0.3200 - acc: 0.9005 - val_loss: 0.7802 - val_acc: 0.7887\n",
      "Epoch 58/100\n",
      "23819/23819 [==============================] - 1s 49us/step - loss: 0.3188 - acc: 0.9001 - val_loss: 0.7836 - val_acc: 0.7881\n",
      "Epoch 59/100\n"
     ]
    },
    {
     "name": "stdout",
     "output_type": "stream",
     "text": [
      "23819/23819 [==============================] - 1s 49us/step - loss: 0.3112 - acc: 0.9049 - val_loss: 0.7877 - val_acc: 0.7893\n",
      "Epoch 60/100\n",
      "23819/23819 [==============================] - 1s 50us/step - loss: 0.3089 - acc: 0.9055 - val_loss: 0.7900 - val_acc: 0.7886\n",
      "Epoch 61/100\n",
      "23819/23819 [==============================] - 1s 50us/step - loss: 0.3044 - acc: 0.9059 - val_loss: 0.7982 - val_acc: 0.7869\n",
      "Epoch 62/100\n",
      "23819/23819 [==============================] - 1s 51us/step - loss: 0.2996 - acc: 0.9079 - val_loss: 0.7982 - val_acc: 0.7886\n",
      "Epoch 63/100\n",
      "23819/23819 [==============================] - 1s 51us/step - loss: 0.2962 - acc: 0.9089 - val_loss: 0.8005 - val_acc: 0.7889\n",
      "Epoch 64/100\n",
      "23819/23819 [==============================] - 1s 50us/step - loss: 0.2944 - acc: 0.9104 - val_loss: 0.8062 - val_acc: 0.7869\n",
      "Epoch 65/100\n",
      "23819/23819 [==============================] - 1s 49us/step - loss: 0.2880 - acc: 0.9106 - val_loss: 0.8073 - val_acc: 0.7872\n",
      "Epoch 66/100\n",
      "23819/23819 [==============================] - 1s 49us/step - loss: 0.2865 - acc: 0.9131 - val_loss: 0.8099 - val_acc: 0.7872\n",
      "Epoch 67/100\n",
      "23819/23819 [==============================] - 1s 52us/step - loss: 0.2801 - acc: 0.9136 - val_loss: 0.8148 - val_acc: 0.7869\n",
      "Epoch 68/100\n",
      "23819/23819 [==============================] - 1s 50us/step - loss: 0.2774 - acc: 0.9149 - val_loss: 0.8191 - val_acc: 0.7879\n",
      "Epoch 69/100\n",
      "23819/23819 [==============================] - 1s 51us/step - loss: 0.2745 - acc: 0.9162 - val_loss: 0.8208 - val_acc: 0.7884\n",
      "Epoch 70/100\n",
      "23819/23819 [==============================] - 1s 50us/step - loss: 0.2723 - acc: 0.9150 - val_loss: 0.8263 - val_acc: 0.7879\n",
      "Epoch 71/100\n",
      "23819/23819 [==============================] - 1s 50us/step - loss: 0.2723 - acc: 0.9156 - val_loss: 0.8295 - val_acc: 0.7872\n",
      "Epoch 72/100\n",
      "23819/23819 [==============================] - 1s 56us/step - loss: 0.2647 - acc: 0.9186 - val_loss: 0.8323 - val_acc: 0.7869\n",
      "Epoch 73/100\n",
      "23819/23819 [==============================] - 1s 58us/step - loss: 0.2636 - acc: 0.9187 - val_loss: 0.8330 - val_acc: 0.7872\n",
      "Epoch 74/100\n",
      "23819/23819 [==============================] - 1s 62us/step - loss: 0.2580 - acc: 0.9211 - val_loss: 0.8372 - val_acc: 0.7877\n",
      "Epoch 75/100\n",
      "23819/23819 [==============================] - 1s 55us/step - loss: 0.2556 - acc: 0.9209 - val_loss: 0.8391 - val_acc: 0.7874\n",
      "Epoch 76/100\n",
      "23819/23819 [==============================] - 1s 52us/step - loss: 0.2512 - acc: 0.9221 - val_loss: 0.8457 - val_acc: 0.7876\n",
      "Epoch 77/100\n",
      "23819/23819 [==============================] - 1s 54us/step - loss: 0.2509 - acc: 0.9226 - val_loss: 0.8497 - val_acc: 0.7891\n",
      "Epoch 78/100\n",
      "23819/23819 [==============================] - 1s 53us/step - loss: 0.2464 - acc: 0.9258 - val_loss: 0.8515 - val_acc: 0.7881\n",
      "Epoch 79/100\n",
      "23819/23819 [==============================] - 1s 54us/step - loss: 0.2445 - acc: 0.9242 - val_loss: 0.8554 - val_acc: 0.7884\n",
      "Epoch 80/100\n",
      "23819/23819 [==============================] - 1s 54us/step - loss: 0.2403 - acc: 0.9274 - val_loss: 0.8569 - val_acc: 0.7877\n",
      "Epoch 81/100\n",
      "23819/23819 [==============================] - 1s 54us/step - loss: 0.2340 - acc: 0.9282 - val_loss: 0.8654 - val_acc: 0.7874\n",
      "Epoch 82/100\n",
      "23819/23819 [==============================] - 1s 53us/step - loss: 0.2357 - acc: 0.9268 - val_loss: 0.8665 - val_acc: 0.7874\n",
      "Epoch 83/100\n",
      "23819/23819 [==============================] - 1s 53us/step - loss: 0.2307 - acc: 0.9303 - val_loss: 0.8718 - val_acc: 0.7886\n",
      "Epoch 84/100\n",
      "23819/23819 [==============================] - 1s 51us/step - loss: 0.2296 - acc: 0.9300 - val_loss: 0.8716 - val_acc: 0.7881\n",
      "Epoch 85/100\n",
      "23819/23819 [==============================] - 1s 50us/step - loss: 0.2263 - acc: 0.9316 - val_loss: 0.8762 - val_acc: 0.7887\n",
      "Epoch 86/100\n",
      "23819/23819 [==============================] - 1s 51us/step - loss: 0.2218 - acc: 0.9332 - val_loss: 0.8774 - val_acc: 0.7872\n",
      "Epoch 87/100\n",
      "23819/23819 [==============================] - 1s 53us/step - loss: 0.2193 - acc: 0.9319 - val_loss: 0.8838 - val_acc: 0.7879\n",
      "Epoch 88/100\n",
      "23819/23819 [==============================] - 1s 52us/step - loss: 0.2156 - acc: 0.9337 - val_loss: 0.8862 - val_acc: 0.7879\n",
      "Epoch 89/100\n",
      "23819/23819 [==============================] - 1s 50us/step - loss: 0.2170 - acc: 0.9338 - val_loss: 0.8898 - val_acc: 0.7879\n",
      "Epoch 90/100\n",
      "23819/23819 [==============================] - 1s 50us/step - loss: 0.2101 - acc: 0.9358 - val_loss: 0.8935 - val_acc: 0.7876\n",
      "Epoch 91/100\n",
      "23819/23819 [==============================] - 1s 50us/step - loss: 0.2124 - acc: 0.9348 - val_loss: 0.8983 - val_acc: 0.7874\n",
      "Epoch 92/100\n",
      "23819/23819 [==============================] - 1s 48us/step - loss: 0.2087 - acc: 0.9370 - val_loss: 0.9008 - val_acc: 0.7884\n",
      "Epoch 93/100\n",
      "23819/23819 [==============================] - 1s 49us/step - loss: 0.2067 - acc: 0.9378 - val_loss: 0.9024 - val_acc: 0.7893\n",
      "Epoch 94/100\n",
      "23819/23819 [==============================] - 1s 50us/step - loss: 0.1996 - acc: 0.9396 - val_loss: 0.9064 - val_acc: 0.7882\n",
      "Epoch 95/100\n",
      "23819/23819 [==============================] - 1s 51us/step - loss: 0.1979 - acc: 0.9403 - val_loss: 0.9111 - val_acc: 0.7879\n",
      "Epoch 96/100\n",
      "23819/23819 [==============================] - 1s 51us/step - loss: 0.1941 - acc: 0.9410 - val_loss: 0.9158 - val_acc: 0.7877\n",
      "Epoch 97/100\n",
      "23819/23819 [==============================] - 1s 50us/step - loss: 0.1943 - acc: 0.9404 - val_loss: 0.9182 - val_acc: 0.7874\n",
      "Epoch 98/100\n",
      "23819/23819 [==============================] - 1s 51us/step - loss: 0.1904 - acc: 0.9428 - val_loss: 0.9242 - val_acc: 0.7884\n",
      "Epoch 99/100\n",
      "23819/23819 [==============================] - 1s 51us/step - loss: 0.1917 - acc: 0.9411 - val_loss: 0.9247 - val_acc: 0.7893\n",
      "Epoch 100/100\n",
      "23819/23819 [==============================] - 1s 52us/step - loss: 0.1863 - acc: 0.9443 - val_loss: 0.9270 - val_acc: 0.7887\n"
     ]
    }
   ],
   "source": [
    "from keras import models\n",
    "from keras import layers\n",
    "\n",
    "model = models.Sequential()\n",
    "model.add(layers.Dense(256, activation='relu', input_shape=[train_data.shape[1], ]))\n",
    "model.add(layers.Dropout(0.5))\n",
    "model.add(layers.Dense(20, activation='softmax'))\n",
    "\n",
    "model.compile(optimizer='rmsprop',\n",
    "              loss='categorical_crossentropy',\n",
    "              metrics=['accuracy'])\n",
    "\n",
    "history = model.fit(x_train,\n",
    "                    y_train,\n",
    "                    epochs=100,\n",
    "                    batch_size=512,\n",
    "                    validation_data=(x_test, y_test))"
   ]
  },
  {
   "cell_type": "markdown",
   "metadata": {},
   "source": [
    "Graph representation"
   ]
  },
  {
   "cell_type": "code",
   "execution_count": 23,
   "metadata": {},
   "outputs": [
    {
     "data": {
      "text/plain": [
       "<Figure size 640x480 with 1 Axes>"
      ]
     },
     "metadata": {},
     "output_type": "display_data"
    }
   ],
   "source": [
    "import matplotlib.pyplot as plt\n",
    "\n",
    "loss = history.history['loss']\n",
    "val_loss = history.history['val_loss']\n",
    "\n",
    "epochs = range(1, len(loss) + 1)\n",
    "\n",
    "plt.plot(epochs, loss, 'bo', label='Training loss')\n",
    "plt.plot(epochs, val_loss, 'b', label='Validation loss')\n",
    "plt.title('Training and validation loss')\n",
    "plt.xlabel('Epochs')\n",
    "plt.ylabel('Loss')\n",
    "plt.legend()\n",
    "\n",
    "plt.show()"
   ]
  },
  {
   "cell_type": "code",
   "execution_count": 24,
   "metadata": {
    "scrolled": false
   },
   "outputs": [
    {
     "data": {
      "image/png": "[encoded data removed]",
      "text/plain": [
       "<Figure size 432x288 with 1 Axes>"
      ]
     },
     "metadata": {},
     "output_type": "display_data"
    }
   ],
   "source": [
    "plt.clf()\n",
    "\n",
    "acc = history.history['acc']\n",
    "val_acc = history.history['val_acc']\n",
    "\n",
    "plt.plot(epochs, acc, 'bo', label='Training acc')\n",
    "plt.plot(epochs, val_acc, 'b', label='Validation acc')\n",
    "plt.title('Training and validation accuracy')\n",
    "plt.xlabel('Epochs')\n",
    "plt.ylabel('Loss')\n",
    "plt.legend()\n",
    "\n",
    "plt.show()"
   ]
  },
  {
   "cell_type": "markdown",
   "metadata": {},
   "source": [
    "Predicting the test data on model"
   ]
  },
  {
   "cell_type": "code",
   "execution_count": 25,
   "metadata": {},
   "outputs": [],
   "source": [
    "result = model.predict(test_data).argmax(axis=1)"
   ]
  },
  {
   "cell_type": "code",
   "execution_count": 26,
   "metadata": {},
   "outputs": [
    {
     "data": {
      "text/plain": [
       "array([12,  9,  9, ...,  7, 13, 14])"
      ]
     },
     "execution_count": 26,
     "metadata": {},
     "output_type": "execute_result"
    }
   ],
   "source": [
    "result"
   ]
  },
  {
   "cell_type": "code",
   "execution_count": 27,
   "metadata": {},
   "outputs": [
    {
     "name": "stderr",
     "output_type": "stream",
     "text": [
      "/anaconda3/lib/python3.6/site-packages/sklearn/preprocessing/label.py:151: DeprecationWarning: The truth value of an empty array is ambiguous. Returning False, but in future this will result in an error. Use `array.size > 0` to check that an array is not empty.\n",
      "  if diff:\n"
     ]
    }
   ],
   "source": [
    "prediction = lb.inverse_transform(result)"
   ]
  },
  {
   "cell_type": "code",
   "execution_count": 28,
   "metadata": {},
   "outputs": [
    {
     "data": {
      "text/html": [
       "<div>\n",
       "<style scoped>\n",
       "    .dataframe tbody tr th:only-of-type {\n",
       "        vertical-align: middle;\n",
       "    }\n",
       "\n",
       "    .dataframe tbody tr th {\n",
       "        vertical-align: top;\n",
       "    }\n",
       "\n",
       "    .dataframe thead th {\n",
       "        text-align: right;\n",
       "    }\n",
       "</style>\n",
       "<table border=\"1\" class=\"dataframe\">\n",
       "  <thead>\n",
       "    <tr style=\"text-align: right;\">\n",
       "      <th></th>\n",
       "      <th>id</th>\n",
       "      <th>ingredients</th>\n",
       "      <th>ingredients_string</th>\n",
       "      <th>cuisine</th>\n",
       "    </tr>\n",
       "  </thead>\n",
       "  <tbody>\n",
       "    <tr>\n",
       "      <th>0</th>\n",
       "      <td>29774</td>\n",
       "      <td>[eggs, beef stock, rice cakes]</td>\n",
       "      <td>eggs beef stock rice cakes</td>\n",
       "      <td>korean</td>\n",
       "    </tr>\n",
       "    <tr>\n",
       "      <th>1</th>\n",
       "      <td>29775</td>\n",
       "      <td>[pasta, orange, fresh thyme, peas, celery, tom...</td>\n",
       "      <td>pasta orange fresh thyme peas celery tomato pa...</td>\n",
       "      <td>italian</td>\n",
       "    </tr>\n",
       "    <tr>\n",
       "      <th>2</th>\n",
       "      <td>29776</td>\n",
       "      <td>[olive oil, onions, red wine, top sirloin stea...</td>\n",
       "      <td>olive oil onions red wine top sirloin steak ch...</td>\n",
       "      <td>italian</td>\n",
       "    </tr>\n",
       "    <tr>\n",
       "      <th>3</th>\n",
       "      <td>29777</td>\n",
       "      <td>[ground black pepper, patis, chicken stock, ga...</td>\n",
       "      <td>ground black pepper patis chicken stock garlic...</td>\n",
       "      <td>filipino</td>\n",
       "    </tr>\n",
       "    <tr>\n",
       "      <th>4</th>\n",
       "      <td>29778</td>\n",
       "      <td>[black pepper, garlic cloves, tomato paste, sa...</td>\n",
       "      <td>black pepper garlic cloves tomato paste salt o...</td>\n",
       "      <td>italian</td>\n",
       "    </tr>\n",
       "  </tbody>\n",
       "</table>\n",
       "</div>"
      ],
      "text/plain": [
       "      id                                        ingredients  \\\n",
       "0  29774                     [eggs, beef stock, rice cakes]   \n",
       "1  29775  [pasta, orange, fresh thyme, peas, celery, tom...   \n",
       "2  29776  [olive oil, onions, red wine, top sirloin stea...   \n",
       "3  29777  [ground black pepper, patis, chicken stock, ga...   \n",
       "4  29778  [black pepper, garlic cloves, tomato paste, sa...   \n",
       "\n",
       "                                  ingredients_string   cuisine  \n",
       "0                         eggs beef stock rice cakes    korean  \n",
       "1  pasta orange fresh thyme peas celery tomato pa...   italian  \n",
       "2  olive oil onions red wine top sirloin steak ch...   italian  \n",
       "3  ground black pepper patis chicken stock garlic...  filipino  \n",
       "4  black pepper garlic cloves tomato paste salt o...   italian  "
      ]
     },
     "execution_count": 28,
     "metadata": {},
     "output_type": "execute_result"
    }
   ],
   "source": [
    "test_df['cuisine'] = prediction\n",
    "test_df.head()"
   ]
  },
  {
   "cell_type": "code",
   "execution_count": 29,
   "metadata": {},
   "outputs": [],
   "source": [
    "submission = test_df[['id','cuisine']]\n",
    "submission.to_csv('submission.csv', header=True, index=False)"
   ]
  },
  {
   "cell_type": "code",
   "execution_count": null,
   "metadata": {},
   "outputs": [],
   "source": []
  }
 ],
 "metadata": {
  "kernelspec": {
   "display_name": "Python 3",
   "language": "python",
   "name": "python3"
  },
  "language_info": {
   "codemirror_mode": {
    "name": "ipython",
    "version": 3
   },
   "file_extension": ".py",
   "mimetype": "text/x-python",
   "name": "python",
   "nbconvert_exporter": "python",
   "pygments_lexer": "ipython3",
   "version": "3.6.5"
  }
 },
 "nbformat": 4,
 "nbformat_minor": 2
}
