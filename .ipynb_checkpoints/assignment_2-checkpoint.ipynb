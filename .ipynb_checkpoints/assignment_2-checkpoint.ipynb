{
 "cells": [
  {
   "cell_type": "code",
   "execution_count": 1,
   "metadata": {},
   "outputs": [
    {
     "name": "stderr",
     "output_type": "stream",
     "text": [
      "/anaconda3/lib/python3.6/site-packages/h5py/__init__.py:36: FutureWarning: Conversion of the second argument of issubdtype from `float` to `np.floating` is deprecated. In future, it will be treated as `np.float64 == np.dtype(float).type`.\n",
      "  from ._conv import register_converters as _register_converters\n",
      "Using TensorFlow backend.\n"
     ]
    }
   ],
   "source": [
    "import keras\n",
    "import pandas as pd\n",
    "import numpy as np"
   ]
  },
  {
   "cell_type": "code",
   "execution_count": 4,
   "metadata": {},
   "outputs": [],
   "source": [
    "train_df = pd.read_json('train.json')\n",
    "test_df = pd.read_json('test.json')"
   ]
  },
  {
   "cell_type": "code",
   "execution_count": 5,
   "metadata": {},
   "outputs": [
    {
     "data": {
      "text/html": [
       "<div>\n",
       "<style scoped>\n",
       "    .dataframe tbody tr th:only-of-type {\n",
       "        vertical-align: middle;\n",
       "    }\n",
       "\n",
       "    .dataframe tbody tr th {\n",
       "        vertical-align: top;\n",
       "    }\n",
       "\n",
       "    .dataframe thead th {\n",
       "        text-align: right;\n",
       "    }\n",
       "</style>\n",
       "<table border=\"1\" class=\"dataframe\">\n",
       "  <thead>\n",
       "    <tr style=\"text-align: right;\">\n",
       "      <th></th>\n",
       "      <th>cuisine</th>\n",
       "      <th>id</th>\n",
       "      <th>ingredients</th>\n",
       "    </tr>\n",
       "  </thead>\n",
       "  <tbody>\n",
       "    <tr>\n",
       "      <th>0</th>\n",
       "      <td>italian</td>\n",
       "      <td>0</td>\n",
       "      <td>[penne, shallots, rice vinegar, fresh basil, g...</td>\n",
       "    </tr>\n",
       "    <tr>\n",
       "      <th>1</th>\n",
       "      <td>greek</td>\n",
       "      <td>1</td>\n",
       "      <td>[sugar, chopped walnuts, filo dough, chopped a...</td>\n",
       "    </tr>\n",
       "    <tr>\n",
       "      <th>2</th>\n",
       "      <td>italian</td>\n",
       "      <td>2</td>\n",
       "      <td>[fresh rosemary, chopped fresh thyme, fresh or...</td>\n",
       "    </tr>\n",
       "    <tr>\n",
       "      <th>3</th>\n",
       "      <td>southern_us</td>\n",
       "      <td>3</td>\n",
       "      <td>[sugar, hot sauce, ramps, vinegar, cream chees...</td>\n",
       "    </tr>\n",
       "    <tr>\n",
       "      <th>4</th>\n",
       "      <td>french</td>\n",
       "      <td>4</td>\n",
       "      <td>[ground cinnamon, panettone, whipped cream, Am...</td>\n",
       "    </tr>\n",
       "  </tbody>\n",
       "</table>\n",
       "</div>"
      ],
      "text/plain": [
       "       cuisine  id                                        ingredients\n",
       "0      italian   0  [penne, shallots, rice vinegar, fresh basil, g...\n",
       "1        greek   1  [sugar, chopped walnuts, filo dough, chopped a...\n",
       "2      italian   2  [fresh rosemary, chopped fresh thyme, fresh or...\n",
       "3  southern_us   3  [sugar, hot sauce, ramps, vinegar, cream chees...\n",
       "4       french   4  [ground cinnamon, panettone, whipped cream, Am..."
      ]
     },
     "execution_count": 5,
     "metadata": {},
     "output_type": "execute_result"
    }
   ],
   "source": [
    "train_df.head()"
   ]
  },
  {
   "cell_type": "code",
   "execution_count": 6,
   "metadata": {},
   "outputs": [
    {
     "data": {
      "text/html": [
       "<div>\n",
       "<style scoped>\n",
       "    .dataframe tbody tr th:only-of-type {\n",
       "        vertical-align: middle;\n",
       "    }\n",
       "\n",
       "    .dataframe tbody tr th {\n",
       "        vertical-align: top;\n",
       "    }\n",
       "\n",
       "    .dataframe thead th {\n",
       "        text-align: right;\n",
       "    }\n",
       "</style>\n",
       "<table border=\"1\" class=\"dataframe\">\n",
       "  <thead>\n",
       "    <tr style=\"text-align: right;\">\n",
       "      <th></th>\n",
       "      <th>id</th>\n",
       "      <th>ingredients</th>\n",
       "    </tr>\n",
       "  </thead>\n",
       "  <tbody>\n",
       "    <tr>\n",
       "      <th>0</th>\n",
       "      <td>29774</td>\n",
       "      <td>[eggs, beef stock, rice cakes]</td>\n",
       "    </tr>\n",
       "    <tr>\n",
       "      <th>1</th>\n",
       "      <td>29775</td>\n",
       "      <td>[pasta, orange, fresh thyme, peas, celery, tom...</td>\n",
       "    </tr>\n",
       "    <tr>\n",
       "      <th>2</th>\n",
       "      <td>29776</td>\n",
       "      <td>[olive oil, onions, red wine, top sirloin stea...</td>\n",
       "    </tr>\n",
       "    <tr>\n",
       "      <th>3</th>\n",
       "      <td>29777</td>\n",
       "      <td>[ground black pepper, patis, chicken stock, ga...</td>\n",
       "    </tr>\n",
       "    <tr>\n",
       "      <th>4</th>\n",
       "      <td>29778</td>\n",
       "      <td>[black pepper, garlic cloves, tomato paste, sa...</td>\n",
       "    </tr>\n",
       "  </tbody>\n",
       "</table>\n",
       "</div>"
      ],
      "text/plain": [
       "      id                                        ingredients\n",
       "0  29774                     [eggs, beef stock, rice cakes]\n",
       "1  29775  [pasta, orange, fresh thyme, peas, celery, tom...\n",
       "2  29776  [olive oil, onions, red wine, top sirloin stea...\n",
       "3  29777  [ground black pepper, patis, chicken stock, ga...\n",
       "4  29778  [black pepper, garlic cloves, tomato paste, sa..."
      ]
     },
     "execution_count": 6,
     "metadata": {},
     "output_type": "execute_result"
    }
   ],
   "source": [
    "test_df.head()"
   ]
  },
  {
   "cell_type": "code",
   "execution_count": 7,
   "metadata": {},
   "outputs": [
    {
     "data": {
      "text/plain": [
       "20"
      ]
     },
     "execution_count": 7,
     "metadata": {},
     "output_type": "execute_result"
    }
   ],
   "source": [
    "len(train_df.cuisine.unique())"
   ]
  },
  {
   "cell_type": "code",
   "execution_count": 9,
   "metadata": {},
   "outputs": [
    {
     "data": {
      "text/plain": [
       "0        italian\n",
       "1          greek\n",
       "2        italian\n",
       "3    southern_us\n",
       "4         french\n",
       "Name: cuisine, dtype: object"
      ]
     },
     "execution_count": 9,
     "metadata": {},
     "output_type": "execute_result"
    }
   ],
   "source": [
    "target=train_df['cuisine']\n",
    "train=train_df.drop('cuisine',axis=1)\n",
    "test=test_df\n",
    "target.head()"
   ]
  },
  {
   "cell_type": "code",
   "execution_count": 12,
   "metadata": {},
   "outputs": [],
   "source": [
    "from keras.preprocessing.text import Tokenizer\n",
    "\n",
    "t=Tokenizer()\n",
    "t.fit_on_texts(train['ingredients'])\n",
    "train_encoded=t.texts_to_matrix(train['ingredients'],mode='tfidf')"
   ]
  },
  {
   "cell_type": "code",
   "execution_count": 14,
   "metadata": {},
   "outputs": [],
   "source": [
    "from keras.utils import to_categorical\n",
    "\n",
    "cuisines=train_df['cuisine'].unique()\n",
    "label2index={cuisine:i for i,cuisine in enumerate(cuisines)}\n",
    "y=[]\n",
    "\n",
    "for item in target:\n",
    "    if item in label2index.keys():\n",
    "        y.append(label2index[item])\n",
    "y_encoded=to_categorical(y,20)"
   ]
  },
  {
   "cell_type": "code",
   "execution_count": 15,
   "metadata": {},
   "outputs": [
    {
     "name": "stdout",
     "output_type": "stream",
     "text": [
      "(29774, 6189)\n",
      "(29774, 20)\n"
     ]
    }
   ],
   "source": [
    "print(train_encoded.shape)\n",
    "print(y_encoded.shape)"
   ]
  },
  {
   "cell_type": "code",
   "execution_count": 24,
   "metadata": {},
   "outputs": [],
   "source": [
    "from sklearn.model_selection import train_test_split\n",
    "x_train, x_test, y_train, y_test = train_test_split(train_encoded,y_encoded,test_size=0.2,random_state=22)"
   ]
  },
  {
   "cell_type": "code",
   "execution_count": 25,
   "metadata": {},
   "outputs": [],
   "source": [
    "from keras import models\n",
    "from keras import layers\n",
    "\n",
    "model = models.Sequential()\n",
    "model.add(layers.Dense(256, activation='relu', input_shape=[train_encoded.shape[1], ]))\n",
    "model.add(layers.Dense(20, activation='softmax'))"
   ]
  },
  {
   "cell_type": "code",
   "execution_count": 26,
   "metadata": {},
   "outputs": [],
   "source": [
    "model.compile(optimizer='rmsprop',\n",
    "             loss='categorical_crossentropy',\n",
    "             metrics=['accuracy'])"
   ]
  },
  {
   "cell_type": "code",
   "execution_count": 27,
   "metadata": {},
   "outputs": [
    {
     "name": "stdout",
     "output_type": "stream",
     "text": [
      "Train on 23819 samples, validate on 5955 samples\n",
      "Epoch 1/20\n",
      "23819/23819 [==============================] - 3s 134us/step - loss: 1.3659 - acc: 0.6647 - val_loss: 0.8915 - val_acc: 0.7595\n",
      "Epoch 2/20\n",
      "23819/23819 [==============================] - 2s 85us/step - loss: 0.6371 - acc: 0.8263 - val_loss: 0.7587 - val_acc: 0.7827\n",
      "Epoch 3/20\n",
      "23819/23819 [==============================] - 2s 85us/step - loss: 0.4461 - acc: 0.8755 - val_loss: 0.7443 - val_acc: 0.7844\n",
      "Epoch 4/20\n",
      "23819/23819 [==============================] - 2s 84us/step - loss: 0.3394 - acc: 0.9060 - val_loss: 0.7671 - val_acc: 0.7819\n",
      "Epoch 5/20\n",
      "23819/23819 [==============================] - 2s 85us/step - loss: 0.2678 - acc: 0.9247 - val_loss: 0.7999 - val_acc: 0.7783\n",
      "Epoch 6/20\n",
      "23819/23819 [==============================] - 2s 85us/step - loss: 0.2149 - acc: 0.9402 - val_loss: 0.8462 - val_acc: 0.7750\n",
      "Epoch 7/20\n",
      "23819/23819 [==============================] - 2s 85us/step - loss: 0.1753 - acc: 0.9520 - val_loss: 0.8943 - val_acc: 0.7698\n",
      "Epoch 8/20\n",
      "23819/23819 [==============================] - 2s 86us/step - loss: 0.1436 - acc: 0.9612 - val_loss: 0.9550 - val_acc: 0.7683\n",
      "Epoch 9/20\n",
      "23819/23819 [==============================] - 2s 89us/step - loss: 0.1191 - acc: 0.9681 - val_loss: 1.0085 - val_acc: 0.7656\n",
      "Epoch 10/20\n",
      "23819/23819 [==============================] - 2s 91us/step - loss: 0.0979 - acc: 0.9743 - val_loss: 1.0728 - val_acc: 0.7649\n",
      "Epoch 11/20\n",
      "23819/23819 [==============================] - 2s 88us/step - loss: 0.0814 - acc: 0.9787 - val_loss: 1.1355 - val_acc: 0.7587\n",
      "Epoch 12/20\n",
      "23819/23819 [==============================] - 2s 89us/step - loss: 0.0677 - acc: 0.9838 - val_loss: 1.2019 - val_acc: 0.7570\n",
      "Epoch 13/20\n",
      "23819/23819 [==============================] - 2s 88us/step - loss: 0.0566 - acc: 0.9864 - val_loss: 1.2625 - val_acc: 0.7585\n",
      "Epoch 14/20\n",
      "23819/23819 [==============================] - 2s 86us/step - loss: 0.0474 - acc: 0.9890 - val_loss: 1.3189 - val_acc: 0.7530\n",
      "Epoch 15/20\n",
      "23819/23819 [==============================] - 2s 84us/step - loss: 0.0397 - acc: 0.9911 - val_loss: 1.3819 - val_acc: 0.7533\n",
      "Epoch 16/20\n",
      "23819/23819 [==============================] - 2s 85us/step - loss: 0.0331 - acc: 0.9925 - val_loss: 1.4384 - val_acc: 0.7498\n",
      "Epoch 17/20\n",
      "23819/23819 [==============================] - 2s 85us/step - loss: 0.0280 - acc: 0.9941 - val_loss: 1.4925 - val_acc: 0.7491\n",
      "Epoch 18/20\n",
      "23819/23819 [==============================] - 2s 84us/step - loss: 0.0239 - acc: 0.9949 - val_loss: 1.5480 - val_acc: 0.7516\n",
      "Epoch 19/20\n",
      "23819/23819 [==============================] - 2s 84us/step - loss: 0.0202 - acc: 0.9957 - val_loss: 1.6101 - val_acc: 0.7490\n",
      "Epoch 20/20\n",
      "23819/23819 [==============================] - 2s 85us/step - loss: 0.0171 - acc: 0.9962 - val_loss: 1.6504 - val_acc: 0.7456\n"
     ]
    }
   ],
   "source": [
    "history = model.fit(x_train,\n",
    "                    y_train,\n",
    "                    epochs = 20,\n",
    "                    batch_size=512,\n",
    "                    validation_data=(x_test,y_test))"
   ]
  },
  {
   "cell_type": "code",
   "execution_count": 29,
   "metadata": {},
   "outputs": [
    {
     "data": {
      "image/png": "[encoded data removed]",
      "text/plain": [
       "<Figure size 432x288 with 1 Axes>"
      ]
     },
     "metadata": {},
     "output_type": "display_data"
    }
   ],
   "source": [
    "import matplotlib.pyplot as plt\n",
    "\n",
    "loss = history.history['loss']\n",
    "val_loss = history.history['val_loss']\n",
    "\n",
    "epochs = range(1, len(loss) + 1)\n",
    "plt.plot(epochs, loss, 'bo', label='Training loss')\n",
    "plt.plot(epochs, val_loss, 'b', label='Validation loss')\n",
    "plt.title('Training and validation loss')\n",
    "plt.xlabel('Epochs')\n",
    "plt.ylabel('Loss')\n",
    "plt.legend()\n",
    "\n",
    "plt.show()"
   ]
  },
  {
   "cell_type": "code",
   "execution_count": 30,
   "metadata": {},
   "outputs": [
    {
     "data": {
      "image/png": "[encoded data removed]",
      "text/plain": [
       "<Figure size 432x288 with 1 Axes>"
      ]
     },
     "metadata": {},
     "output_type": "display_data"
    }
   ],
   "source": [
    "plt.clf()   # clear figure\n",
    "\n",
    "acc = history.history['acc']\n",
    "val_acc = history.history['val_acc']\n",
    "\n",
    "plt.plot(epochs, acc, 'bo', label='Training acc')\n",
    "plt.plot(epochs, val_acc, 'b', label='Validation acc')\n",
    "plt.title('Training and validation accuracy')\n",
    "plt.xlabel('Epochs')\n",
    "plt.ylabel('Loss')\n",
    "plt.legend()\n",
    "\n",
    "plt.show()"
   ]
  },
  {
   "cell_type": "code",
   "execution_count": 31,
   "metadata": {},
   "outputs": [
    {
     "data": {
      "text/plain": [
       "(10000, 6189)"
      ]
     },
     "execution_count": 31,
     "metadata": {},
     "output_type": "execute_result"
    }
   ],
   "source": [
    "test_encoded=t.texts_to_matrix(test_df['ingredients'],mode='tfidf')\n",
    "test_encoded.shape"
   ]
  },
  {
   "cell_type": "code",
   "execution_count": 32,
   "metadata": {},
   "outputs": [
    {
     "data": {
      "text/plain": [
       "['korean',\n",
       " 'italian',\n",
       " 'italian',\n",
       " 'chinese',\n",
       " 'italian',\n",
       " 'cajun_creole',\n",
       " 'italian',\n",
       " 'thai',\n",
       " 'chinese',\n",
       " 'southern_us']"
      ]
     },
     "execution_count": 32,
     "metadata": {},
     "output_type": "execute_result"
    }
   ],
   "source": [
    "model.load_weights('best-model-0.h5')\n",
    "y_pred=model.predict(test_encoded).argmax(axis=1)\n",
    "\n",
    "results=[]\n",
    "\n",
    "for i in y_pred:\n",
    "    for k,v in label2index.items():\n",
    "        if v==i:\n",
    "            results.append(k)\n",
    "\n",
    "results[:10]"
   ]
  },
  {
   "cell_type": "code",
   "execution_count": null,
   "metadata": {},
   "outputs": [
    {
     "name": "stdout",
     "output_type": "stream",
     "text": [
      "Train on 23819 samples, validate on 5955 samples\n",
      "Epoch 1/100\n",
      "23819/23819 [==============================] - 3s 118us/step - loss: 1.3693 - acc: 0.6606 - val_loss: 0.8863 - val_acc: 0.7604\n",
      "Epoch 2/100\n",
      "23819/23819 [==============================] - 2s 93us/step - loss: 0.6375 - acc: 0.8301 - val_loss: 0.7606 - val_acc: 0.7805\n",
      "Epoch 3/100\n",
      "23819/23819 [==============================] - 2s 92us/step - loss: 0.4456 - acc: 0.8783 - val_loss: 0.7525 - val_acc: 0.7797\n",
      "Epoch 4/100\n",
      "23819/23819 [==============================] - 2s 92us/step - loss: 0.3398 - acc: 0.9054 - val_loss: 0.7697 - val_acc: 0.7800\n",
      "Epoch 5/100\n",
      "23819/23819 [==============================] - 2s 89us/step - loss: 0.2680 - acc: 0.9256 - val_loss: 0.8050 - val_acc: 0.7792\n",
      "Epoch 6/100\n",
      "23819/23819 [==============================] - 2s 90us/step - loss: 0.2152 - acc: 0.9407 - val_loss: 0.8546 - val_acc: 0.7746\n",
      "Epoch 7/100\n",
      "23819/23819 [==============================] - 2s 88us/step - loss: 0.1758 - acc: 0.9516 - val_loss: 0.8979 - val_acc: 0.7678\n",
      "Epoch 8/100\n",
      "23819/23819 [==============================] - 2s 89us/step - loss: 0.1442 - acc: 0.9611 - val_loss: 0.9524 - val_acc: 0.7657\n",
      "Epoch 9/100\n",
      "23819/23819 [==============================] - 2s 90us/step - loss: 0.1185 - acc: 0.9682 - val_loss: 1.0076 - val_acc: 0.7644\n",
      "Epoch 10/100\n",
      "23819/23819 [==============================] - 2s 89us/step - loss: 0.0987 - acc: 0.9741 - val_loss: 1.0752 - val_acc: 0.7612\n",
      "Epoch 11/100\n",
      "23819/23819 [==============================] - 2s 94us/step - loss: 0.0819 - acc: 0.9800 - val_loss: 1.1444 - val_acc: 0.7594\n",
      "Epoch 12/100\n",
      "23819/23819 [==============================] - 2s 94us/step - loss: 0.0676 - acc: 0.9840 - val_loss: 1.1939 - val_acc: 0.7582\n",
      "Epoch 13/100\n",
      "23819/23819 [==============================] - 2s 96us/step - loss: 0.0570 - acc: 0.9863 - val_loss: 1.2559 - val_acc: 0.7568\n",
      "Epoch 14/100\n",
      "23819/23819 [==============================] - 2s 91us/step - loss: 0.0475 - acc: 0.9887 - val_loss: 1.3081 - val_acc: 0.7537\n",
      "Epoch 15/100\n",
      "23819/23819 [==============================] - 2s 91us/step - loss: 0.0398 - acc: 0.9911 - val_loss: 1.3726 - val_acc: 0.7553\n",
      "Epoch 16/100\n",
      "23819/23819 [==============================] - 2s 90us/step - loss: 0.0334 - acc: 0.9926 - val_loss: 1.4357 - val_acc: 0.7513\n",
      "Epoch 17/100\n",
      "23819/23819 [==============================] - 2s 88us/step - loss: 0.0284 - acc: 0.9937 - val_loss: 1.4813 - val_acc: 0.7498\n",
      "Epoch 18/100\n",
      "23819/23819 [==============================] - 2s 88us/step - loss: 0.0240 - acc: 0.9954 - val_loss: 1.5342 - val_acc: 0.7486\n",
      "Epoch 19/100\n",
      "23819/23819 [==============================] - 2s 87us/step - loss: 0.0205 - acc: 0.9954 - val_loss: 1.5878 - val_acc: 0.7449\n",
      "Epoch 20/100\n",
      "23819/23819 [==============================] - 2s 88us/step - loss: 0.0172 - acc: 0.9968 - val_loss: 1.6352 - val_acc: 0.7478\n",
      "Epoch 21/100\n",
      "23819/23819 [==============================] - 2s 87us/step - loss: 0.0150 - acc: 0.9972 - val_loss: 1.6919 - val_acc: 0.7474\n",
      "Epoch 22/100\n",
      "23819/23819 [==============================] - 2s 87us/step - loss: 0.0130 - acc: 0.9974 - val_loss: 1.7290 - val_acc: 0.7456\n",
      "Epoch 23/100\n",
      "23819/23819 [==============================] - 2s 87us/step - loss: 0.0111 - acc: 0.9979 - val_loss: 1.7815 - val_acc: 0.7484\n",
      "Epoch 24/100\n",
      "23819/23819 [==============================] - 2s 88us/step - loss: 0.0097 - acc: 0.9979 - val_loss: 1.8339 - val_acc: 0.7434\n",
      "Epoch 25/100\n",
      "23819/23819 [==============================] - 2s 87us/step - loss: 0.0085 - acc: 0.9984 - val_loss: 1.8650 - val_acc: 0.7432\n",
      "Epoch 26/100\n",
      "23819/23819 [==============================] - 2s 86us/step - loss: 0.0074 - acc: 0.9984 - val_loss: 1.9019 - val_acc: 0.7458\n",
      "Epoch 27/100\n",
      "23819/23819 [==============================] - 2s 86us/step - loss: 0.0066 - acc: 0.9987 - val_loss: 1.9440 - val_acc: 0.7409\n",
      "Epoch 28/100\n",
      "23819/23819 [==============================] - 2s 87us/step - loss: 0.0058 - acc: 0.9988 - val_loss: 1.9791 - val_acc: 0.7439\n",
      "Epoch 29/100\n",
      "23819/23819 [==============================] - 2s 86us/step - loss: 0.0052 - acc: 0.9990 - val_loss: 2.0210 - val_acc: 0.7414\n",
      "Epoch 30/100\n",
      "23819/23819 [==============================] - 2s 86us/step - loss: 0.0048 - acc: 0.9991 - val_loss: 2.0493 - val_acc: 0.7421\n",
      "Epoch 31/100\n",
      "23819/23819 [==============================] - 2s 86us/step - loss: 0.0042 - acc: 0.9991 - val_loss: 2.0944 - val_acc: 0.7417\n",
      "Epoch 32/100\n",
      "23819/23819 [==============================] - 2s 87us/step - loss: 0.0038 - acc: 0.9992 - val_loss: 2.1247 - val_acc: 0.7439\n",
      "Epoch 33/100\n",
      "23819/23819 [==============================] - 2s 90us/step - loss: 0.0035 - acc: 0.9992 - val_loss: 2.1438 - val_acc: 0.7441\n",
      "Epoch 34/100\n",
      "23819/23819 [==============================] - 2s 100us/step - loss: 0.0031 - acc: 0.9993 - val_loss: 2.1806 - val_acc: 0.7411\n",
      "Epoch 35/100\n",
      "23819/23819 [==============================] - 2s 92us/step - loss: 0.0029 - acc: 0.9993 - val_loss: 2.2083 - val_acc: 0.7419\n",
      "Epoch 36/100\n",
      "23819/23819 [==============================] - 2s 96us/step - loss: 0.0027 - acc: 0.9992 - val_loss: 2.2371 - val_acc: 0.7411\n",
      "Epoch 37/100\n",
      "23819/23819 [==============================] - 2s 95us/step - loss: 0.0024 - acc: 0.9995 - val_loss: 2.2581 - val_acc: 0.7406\n",
      "Epoch 38/100\n",
      " 4608/23819 [====>.........................] - ETA: 1s - loss: 0.0019 - acc: 0.9993"
     ]
    }
   ],
   "source": [
    "model = models.Sequential()\n",
    "model.add(layers.Dense(256, activation='relu', input_shape=[train_encoded.shape[1], ]))\n",
    "model.add(layers.Dense(20, activation='softmax'))\n",
    "\n",
    "model.compile(optimizer='rmsprop',\n",
    "             loss='categorical_crossentropy',\n",
    "             metrics=['accuracy'])\n",
    "\n",
    "result = model.fit(x_train,\n",
    "                   y_train,\n",
    "                   epochs=100,\n",
    "                   batch_size=512,\n",
    "                   validation_data=(x_test,y_test)\n",
    "                  )"
   ]
  },
  {
   "cell_type": "code",
   "execution_count": 37,
   "metadata": {},
   "outputs": [
    {
     "data": {
      "text/plain": [
       "['korean',\n",
       " 'italian',\n",
       " 'italian',\n",
       " 'chinese',\n",
       " 'italian',\n",
       " 'cajun_creole',\n",
       " 'italian',\n",
       " 'thai',\n",
       " 'chinese',\n",
       " 'southern_us']"
      ]
     },
     "execution_count": 37,
     "metadata": {},
     "output_type": "execute_result"
    }
   ],
   "source": [
    "model.load_weights('best-model-0.h5')\n",
    "y_pred=model.predict(test_encoded).argmax(axis=1)\n",
    "\n",
    "results=[]\n",
    "\n",
    "for i in y_pred:\n",
    "    for k,v in label2index.items():\n",
    "        if v==i:\n",
    "            results.append(k)\n",
    "\n",
    "results[:10]"
   ]
  },
  {
   "cell_type": "code",
   "execution_count": 39,
   "metadata": {},
   "outputs": [],
   "source": [
    "submission=pd.DataFrame(list(zip(test_df['id'],results)),columns=['id','cuisine'])\n",
    "submission.to_csv('submission.csv',header=True,index=False)"
   ]
  },
  {
   "cell_type": "code",
   "execution_count": null,
   "metadata": {},
   "outputs": [],
   "source": []
  }
 ],
 "metadata": {
  "kernelspec": {
   "display_name": "Python 3",
   "language": "python",
   "name": "python3"
  },
  "language_info": {
   "codemirror_mode": {
    "name": "ipython",
    "version": 3
   },
   "file_extension": ".py",
   "mimetype": "text/x-python",
   "name": "python",
   "nbconvert_exporter": "python",
   "pygments_lexer": "ipython3",
   "version": "3.6.5"
  }
 },
 "nbformat": 4,
 "nbformat_minor": 2
}
